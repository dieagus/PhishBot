{
  "cells": [
    {
      "cell_type": "markdown",
      "metadata": {
        "id": "view-in-github",
        "colab_type": "text"
      },
      "source": [
        "<a href=\"https://colab.research.google.com/github/dieagus/PhishBot/blob/main/phish.ipynb\" target=\"_parent\"><img src=\"https://colab.research.google.com/assets/colab-badge.svg\" alt=\"Open In Colab\"/></a>"
      ]
    },
    {
      "cell_type": "code",
      "execution_count": null,
      "metadata": {
        "id": "G5tbDBs9amfN"
      },
      "outputs": [],
      "source": [
        "# import modules for data\n",
        "import matplotlib.pyplot as plt\n",
        "\n",
        "from sklearn.model_selection import train_test_split\n",
        "from sklearn.feature_extraction.text import TfidfVectorizer\n",
        "from sklearn.linear_model import LogisticRegression\n",
        "from sklearn.metrics import accuracy_score, classification_report\n",
        "import re\n",
        "from google.colab import drive\n",
        "drive.mount('/content/drive')"
      ]
    },
    {
      "cell_type": "code",
      "execution_count": null,
      "metadata": {
        "colab": {
          "background_save": true
        },
        "id": "kjPPH5xukEcR"
      },
      "outputs": [],
      "source": [
        "# import data and take the first 30k datapoints\n",
        "\n",
        "import pandas as pd\n",
        "import numpy as np\n",
        "import datetime\n",
        "df = pd.read_csv(\"drive/MyDrive/phish.csv\")\n",
        "df = df.iloc[:30000]\n"
      ]
    },
    {
      "cell_type": "code",
      "execution_count": null,
      "metadata": {
        "colab": {
          "background_save": true
        },
        "id": "83AXma4AkVJn"
      },
      "outputs": [],
      "source": [
        "df = df.drop(columns=['receiver', 'date', 'urls'])\n",
        "# drop these columns i dont think i want to use"
      ]
    },
    {
      "cell_type": "code",
      "execution_count": null,
      "metadata": {
        "colab": {
          "background_save": true
        },
        "id": "Vn8FATrSkgPr",
        "outputId": "faa6de2f-e8f0-44e7-e8a6-2969ca4e5283"
      },
      "outputs": [
        {
          "name": "stdout",
          "output_type": "stream",
          "text": [
            "Training Features:\n",
            "                                                   sender  \\\n",
            "21753             hervey shenglu <leandro1@alcoa.com.br>   \n",
            "251                Christoph Cordes <uiaregi@clamav.net>   \n",
            "22941       \"John M. Dlugosz\" <dhcgnd702@sneakemail.com>   \n",
            "618    Library of Congress <loc@service.govdelivery.com>   \n",
            "17090                Tarek Ziadé <vgwil.zhzzs@gmail.com>   \n",
            "...                                                  ...   \n",
            "29802           \"Brian W. Fitzpatrick\" <bmlh@google.com>   \n",
            "5390   Hannah Stover <DellawoodlandBullard@northweste...   \n",
            "860            InstantBooster <promotebusines@gmail.com>   \n",
            "15795                    nzvoq@zaphod.in.tu-clausthal.de   \n",
            "23654                   duploelabs <dieaahq@hotmail.com>   \n",
            "\n",
            "                                                 subject  \\\n",
            "21753                                    Does it matter?   \n",
            "251                [clamav-virusdb] Update (daily: 5742)   \n",
            "22941                       Humorous but serious article   \n",
            "618    Library of Congress Classification Weekly List...   \n",
            "17090      [Python-Dev] Distutils patches review request   \n",
            "...                                                  ...   \n",
            "29802                       Re: Embed JavaScript in Wiki   \n",
            "5390                  Very discrete shipping and billing   \n",
            "860    How would You like to divert 1000s of fresh ne...   \n",
            "15795                                   [UAI] FM'06: CFP   \n",
            "23654                     [ie-rant] Re: Ageism in Action   \n",
            "\n",
            "                                                    body  \n",
            "21753  FeZGfxX\\nYour requested mail has been attached.\\t  \n",
            "251    ClamAV database updated (08 Feb 2008 12-16 +00...  \n",
            "22941                       See my latest creation at \\n  \n",
            "618    Library of Congress Classification Weekly List...  \n",
            "17090  Hi,\\n\\nI would like to make request for a revi...  \n",
            "...                                                  ...  \n",
            "29802  \\nOn Nov 8, 2007 10:35 AM, mschaff  wrote:\\n> ...  \n",
            "5390   \\nNow, thanks to an incredible breakthrough, t...  \n",
            "860    \\nCan you afford to lose 300,000 potential cus...  \n",
            "15795  \\n============================================...  \n",
            "23654  What a legend. hope he wins....\\n\\n--- In pq-m...  \n",
            "\n",
            "[24000 rows x 3 columns]\n",
            "\n",
            "Testing Features:\n",
            "                                                   sender  \\\n",
            "2308           \"Telecharge.com\" <kqnieum@telecharge.com>   \n",
            "22404  Daily Top 10 <jizsolv_1960@peopleinproperty.co...   \n",
            "23397                     Chun Bing Ge <elsg@cn.ibm.com>   \n",
            "25058             Daily Top 10 <indued1996@protisei.com>   \n",
            "2664           \"Prof. Jun Wang\" <qgtwo@acae.cuhk.edu.hk>   \n",
            "...                                                  ...   \n",
            "2210         Raymundo Vinson <gerich@olympic-moving.com>   \n",
            "14144              Dorian Melendez <Dorian@btu.unesp.br>   \n",
            "23108           Daily Top 10 <zulgxo_1954@tentel.com.tw>   \n",
            "25703        Evans Miner <mentioninggf2@prestofoods.com>   \n",
            "29171  Emmett Mckenzie <EmanuelheightAllison@zefrank....   \n",
            "\n",
            "                                                 subject  \\\n",
            "2308                             See Altar Boyz for $25!   \n",
            "22404                               CNN.com Daily Top 10   \n",
            "23397  patch for t/op/regexp_email.t for EBCDIC platform   \n",
            "25058                               CNN.com Daily Top 10   \n",
            "2664   [UAI] International Symposium on Neural Nets: ...   \n",
            "...                                                  ...   \n",
            "2210                         Katerina age 29 -on dating    \n",
            "14144                                    You our client!   \n",
            "23108                               CNN.com Daily Top 10   \n",
            "25703                                                Re:   \n",
            "29171  All Your Breast Enlargement Info From Top Brea...   \n",
            "\n",
            "                                                    body  \n",
            "2308   There are only three musicals \\nthat are worth...  \n",
            "22404  >+=+=+=+=+=+=+=+=+=+=+=+=+=+=+=+=+=+=+=+=+=+=+...  \n",
            "23397  Hi,\\r\\n\\r\\nHere is the patch below. Any questi...  \n",
            "25058  >+=+=+=+=+=+=+=+=+=+=+=+=+=+=+=+=+=+=+=+=+=+=+...  \n",
            "2664   Call for Papers\\n\\nThe Second International Sy...  \n",
            "...                                                  ...  \n",
            "2210   =======================\\nDating\\nKaterina age ...  \n",
            "14144  Pamela Anderson... Again... See now! \\nhttp://...  \n",
            "23108  >+=+=+=+=+=+=+=+=+=+=+=+=+=+=+=+=+=+=+=+=+=+=+...  \n",
            "25703  \\nIs it better for a woman to marry a man who ...  \n",
            "29171  \\nMany surveys have shown that ladies prefer t...  \n",
            "\n",
            "[6000 rows x 3 columns]\n",
            "\n",
            "Training Target:\n",
            " 21753    1\n",
            "251      0\n",
            "22941    0\n",
            "618      0\n",
            "17090    0\n",
            "        ..\n",
            "29802    0\n",
            "5390     1\n",
            "860      1\n",
            "15795    0\n",
            "23654    0\n",
            "Name: label, Length: 24000, dtype: int64\n",
            "\n",
            "Testing Target:\n",
            " 2308     0\n",
            "22404    1\n",
            "23397    0\n",
            "25058    1\n",
            "2664     0\n",
            "        ..\n",
            "2210     1\n",
            "14144    1\n",
            "23108    1\n",
            "25703    1\n",
            "29171    1\n",
            "Name: label, Length: 6000, dtype: int64\n"
          ]
        }
      ],
      "source": [
        "\n",
        "from sklearn.model_selection import train_test_split\n",
        "\n",
        "\n",
        "# inputs and output feautures\n",
        "X = df[['sender', 'subject', 'body']]\n",
        "# label: 0 = real 1 = spam\n",
        "y = df['label']\n",
        "\n",
        "X_train, X_test, y_train, y_test = train_test_split(X, y, test_size=0.2, random_state=42)\n",
        "#print all features\n",
        "print(\"Training Features:\\n\", X_train)\n",
        "print(\"\\nTesting Features:\\n\", X_test)\n",
        "print(\"\\nTraining Target:\\n\", y_train)\n",
        "print(\"\\nTesting Target:\\n\", y_test)"
      ]
    },
    {
      "cell_type": "code",
      "execution_count": null,
      "metadata": {
        "colab": {
          "background_save": true
        },
        "id": "a_XuHSTkk6Z0"
      },
      "outputs": [],
      "source": [
        "# combines sender subject and body of emial into one text column\n",
        "df['text'] = df['sender'] + ' ' + df['subject'] + ' ' + df['body']\n",
        "\n",
        "# drop empty cells\n",
        "df = df.dropna(subset=['text', 'label'])"
      ]
    },
    {
      "cell_type": "markdown",
      "metadata": {
        "id": "61N0qWNf0gY_"
      },
      "source": []
    },
    {
      "cell_type": "code",
      "execution_count": null,
      "metadata": {
        "colab": {
          "background_save": true
        },
        "id": "lgsv18HSlMcw"
      },
      "outputs": [],
      "source": []
    },
    {
      "cell_type": "code",
      "execution_count": null,
      "metadata": {
        "colab": {
          "background_save": true
        },
        "id": "ywWtkXJ7mW3c"
      },
      "outputs": [],
      "source": [
        "# cleaning text, removes all special characters for the machine learning model\n",
        "def clean_text(text):\n",
        "    text = re.sub(r'\\n', ' ', text)\n",
        "    text = re.sub(r'http\\S+', '', text)\n",
        "    text = re.sub(r'\\W', ' ', text)\n",
        "    text = re.sub(r'\\s+', ' ', text)\n",
        "    return text.lower().strip()\n",
        "# cleans text and assigns train test\n",
        "df['clean_text'] = df['text'].apply(clean_text)\n",
        "X = df['clean_text']\n",
        "y = df['label']\n",
        "X_train, X_test, y_train, y_test = train_test_split(X, y, test_size=0.2, random_state=42)\n"
      ]
    },
    {
      "cell_type": "code",
      "execution_count": null,
      "metadata": {
        "colab": {
          "background_save": true
        },
        "id": "Mrp1ZSJuma78"
      },
      "outputs": [],
      "source": [
        "# vectorizes clean text into weighted phrases and characters\n",
        "vectorizer = TfidfVectorizer(max_features=5000)\n",
        "X_train_tfidf = vectorizer.fit_transform(X_train)\n",
        "X_test_tfidf = vectorizer.transform(X_test)"
      ]
    },
    {
      "cell_type": "code",
      "execution_count": null,
      "metadata": {
        "colab": {
          "background_save": true
        },
        "id": "ZHdkDShvn9rJ",
        "outputId": "bc56553b-c6bd-4442-9458-fbcf76a9bf48"
      },
      "outputs": [
        {
          "name": "stdout",
          "output_type": "stream",
          "text": [
            "Accuracy: 0.9926617745163442\n",
            "\n",
            "Classification Report:\n",
            "               precision    recall  f1-score   support\n",
            "\n",
            "           0       0.99      0.99      0.99      2467\n",
            "           1       0.99      0.99      0.99      3529\n",
            "\n",
            "    accuracy                           0.99      5996\n",
            "   macro avg       0.99      0.99      0.99      5996\n",
            "weighted avg       0.99      0.99      0.99      5996\n",
            "\n"
          ]
        }
      ],
      "source": [
        "# logistic regression model, fit using the vectorized data and the labels\n",
        "model = LogisticRegression()\n",
        "model.fit(X_train_tfidf, y_train)\n",
        "\n",
        "# predictions\n",
        "y_pred = model.predict(X_test_tfidf)\n",
        "# accuracy + classification report\n",
        "print(\"Accuracy:\", accuracy_score(y_test, y_pred))\n",
        "print(\"\\nClassification Report:\\n\", classification_report(y_test, y_pred))"
      ]
    },
    {
      "cell_type": "code",
      "execution_count": null,
      "metadata": {
        "colab": {
          "background_save": true
        },
        "id": "UbioUqHtoD3c",
        "outputId": "13ad73d1-4716-4354-e744-9c1412996944"
      },
      "outputs": [
        {
          "data": {
            "text/plain": [
              "array([1, 1, 1, ..., 0, 1, 1])"
            ]
          },
          "execution_count": 14,
          "metadata": {},
          "output_type": "execute_result"
        }
      ],
      "source": [
        "y_pred"
      ]
    },
    {
      "cell_type": "code",
      "execution_count": null,
      "metadata": {
        "colab": {
          "background_save": true
        },
        "id": "TCxdRVyBoJYB",
        "outputId": "2b91fe69-574b-44ab-9dac-ef7b803ba19d"
      },
      "outputs": [
        {
          "data": {
            "text/html": [
              "<div>\n",
              "<style scoped>\n",
              "    .dataframe tbody tr th:only-of-type {\n",
              "        vertical-align: middle;\n",
              "    }\n",
              "\n",
              "    .dataframe tbody tr th {\n",
              "        vertical-align: top;\n",
              "    }\n",
              "\n",
              "    .dataframe thead th {\n",
              "        text-align: right;\n",
              "    }\n",
              "</style>\n",
              "<table border=\"1\" class=\"dataframe\">\n",
              "  <thead>\n",
              "    <tr style=\"text-align: right;\">\n",
              "      <th></th>\n",
              "      <th>label</th>\n",
              "    </tr>\n",
              "  </thead>\n",
              "  <tbody>\n",
              "    <tr>\n",
              "      <th>28580</th>\n",
              "      <td>1</td>\n",
              "    </tr>\n",
              "    <tr>\n",
              "      <th>24433</th>\n",
              "      <td>1</td>\n",
              "    </tr>\n",
              "    <tr>\n",
              "      <th>9379</th>\n",
              "      <td>1</td>\n",
              "    </tr>\n",
              "    <tr>\n",
              "      <th>7765</th>\n",
              "      <td>1</td>\n",
              "    </tr>\n",
              "    <tr>\n",
              "      <th>27464</th>\n",
              "      <td>1</td>\n",
              "    </tr>\n",
              "    <tr>\n",
              "      <th>...</th>\n",
              "      <td>...</td>\n",
              "    </tr>\n",
              "    <tr>\n",
              "      <th>17095</th>\n",
              "      <td>1</td>\n",
              "    </tr>\n",
              "    <tr>\n",
              "      <th>19668</th>\n",
              "      <td>0</td>\n",
              "    </tr>\n",
              "    <tr>\n",
              "      <th>29949</th>\n",
              "      <td>0</td>\n",
              "    </tr>\n",
              "    <tr>\n",
              "      <th>27337</th>\n",
              "      <td>1</td>\n",
              "    </tr>\n",
              "    <tr>\n",
              "      <th>18919</th>\n",
              "      <td>1</td>\n",
              "    </tr>\n",
              "  </tbody>\n",
              "</table>\n",
              "<p>5996 rows × 1 columns</p>\n",
              "</div><br><label><b>dtype:</b> int64</label>"
            ],
            "text/plain": [
              "28580    1\n",
              "24433    1\n",
              "9379     1\n",
              "7765     1\n",
              "27464    1\n",
              "        ..\n",
              "17095    1\n",
              "19668    0\n",
              "29949    0\n",
              "27337    1\n",
              "18919    1\n",
              "Name: label, Length: 5996, dtype: int64"
            ]
          },
          "execution_count": 15,
          "metadata": {},
          "output_type": "execute_result"
        }
      ],
      "source": [
        "y_test"
      ]
    },
    {
      "cell_type": "code",
      "execution_count": null,
      "metadata": {
        "colab": {
          "background_save": true
        },
        "id": "dnujXM44rjbJ",
        "outputId": "e4b32f4e-f01e-46e4-c9de-8544903ac47f"
      },
      "outputs": [
        {
          "name": "stdout",
          "output_type": "stream",
          "text": [
            "       Feature  Coefficient  Abs_Coefficient\n",
            "3600    python    -5.918660         5.918660\n",
            "2707      love     5.808831         5.808831\n",
            "979        com     5.701216         5.701216\n",
            "4951     wrote    -5.666323         5.666323\n",
            "4979      your     5.542068         5.542068\n",
            "3163  opensuse    -4.139091         4.139091\n",
            "2006     gmail    -3.967222         3.967222\n",
            "2858       men     3.876570         3.876570\n",
            "2652      list    -3.847659         3.847659\n",
            "3316      perl    -3.798888         3.798888\n"
          ]
        }
      ],
      "source": [
        "# gives words from the vectorizer that appeared to have the most weight on the result\n",
        "feature_names = vectorizer.get_feature_names_out()\n",
        "\n",
        "\n",
        "coefficients = model.coef_[0]\n",
        "\n",
        "\n",
        "feature_importance = pd.DataFrame({'Feature': feature_names, 'Coefficient': coefficients})\n",
        "\n",
        "feature_importance['Abs_Coefficient'] = np.abs(feature_importance['Coefficient'])\n",
        "feature_importance = feature_importance.sort_values(by='Abs_Coefficient', ascending=False)\n",
        "\n",
        "\n",
        "# feature improtances\n",
        "print(feature_importance.head(10))\n"
      ]
    },
    {
      "cell_type": "code",
      "execution_count": null,
      "metadata": {
        "colab": {
          "background_save": true
        },
        "id": "CiTa0hz6wIPr"
      },
      "outputs": [],
      "source": []
    }
  ],
  "metadata": {
    "colab": {
      "provenance": [],
      "authorship_tag": "ABX9TyNJpqWxEU4tfloB8N4A2j9B",
      "include_colab_link": true
    },
    "kernelspec": {
      "display_name": "Python 3",
      "name": "python3"
    },
    "language_info": {
      "name": "python"
    }
  },
  "nbformat": 4,
  "nbformat_minor": 0
}